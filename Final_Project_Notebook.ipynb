{
 "cells": [
  {
   "cell_type": "markdown",
   "id": "5cfca6ed",
   "metadata": {},
   "source": [
    "# Final Project: AirBnB NYC"
   ]
  },
  {
   "cell_type": "code",
   "execution_count": 129,
   "id": "efd5fe22",
   "metadata": {},
   "outputs": [],
   "source": [
    "import pandas as pd\n",
    "import matplotlib.pyplot as plt\n",
    "import seaborn as sns\n",
    "#import geopandas as gpd\n",
    "\n",
    "df=pd.read_csv(\"AB_NYC_2019.csv\")"
   ]
  },
  {
   "cell_type": "markdown",
   "id": "94395260",
   "metadata": {},
   "source": [
    "## Exploring the Dataset"
   ]
  },
  {
   "cell_type": "code",
   "execution_count": 185,
   "id": "15e1b322",
   "metadata": {},
   "outputs": [
    {
     "data": {
      "text/html": [
       "<div>\n",
       "<style scoped>\n",
       "    .dataframe tbody tr th:only-of-type {\n",
       "        vertical-align: middle;\n",
       "    }\n",
       "\n",
       "    .dataframe tbody tr th {\n",
       "        vertical-align: top;\n",
       "    }\n",
       "\n",
       "    .dataframe thead th {\n",
       "        text-align: right;\n",
       "    }\n",
       "</style>\n",
       "<table border=\"1\" class=\"dataframe\">\n",
       "  <thead>\n",
       "    <tr style=\"text-align: right;\">\n",
       "      <th></th>\n",
       "      <th>id</th>\n",
       "      <th>name</th>\n",
       "      <th>host_id</th>\n",
       "      <th>host_name</th>\n",
       "      <th>neighbourhood_group</th>\n",
       "      <th>neighbourhood</th>\n",
       "      <th>latitude</th>\n",
       "      <th>longitude</th>\n",
       "      <th>room_type</th>\n",
       "      <th>price</th>\n",
       "      <th>minimum_nights</th>\n",
       "      <th>number_of_reviews</th>\n",
       "      <th>last_review</th>\n",
       "      <th>reviews_per_month</th>\n",
       "      <th>calculated_host_listings_count</th>\n",
       "      <th>availability_365</th>\n",
       "    </tr>\n",
       "  </thead>\n",
       "  <tbody>\n",
       "    <tr>\n",
       "      <th>0</th>\n",
       "      <td>2539</td>\n",
       "      <td>Clean &amp; quiet apt home by the park</td>\n",
       "      <td>2787</td>\n",
       "      <td>John</td>\n",
       "      <td>Brooklyn</td>\n",
       "      <td>Kensington</td>\n",
       "      <td>40.64749</td>\n",
       "      <td>-73.97237</td>\n",
       "      <td>Private room</td>\n",
       "      <td>149</td>\n",
       "      <td>1</td>\n",
       "      <td>9</td>\n",
       "      <td>2018-10-19</td>\n",
       "      <td>0.21</td>\n",
       "      <td>6</td>\n",
       "      <td>365</td>\n",
       "    </tr>\n",
       "    <tr>\n",
       "      <th>1</th>\n",
       "      <td>2595</td>\n",
       "      <td>Skylit Midtown Castle</td>\n",
       "      <td>2845</td>\n",
       "      <td>Jennifer</td>\n",
       "      <td>Manhattan</td>\n",
       "      <td>Midtown</td>\n",
       "      <td>40.75362</td>\n",
       "      <td>-73.98377</td>\n",
       "      <td>Entire home/apt</td>\n",
       "      <td>225</td>\n",
       "      <td>1</td>\n",
       "      <td>45</td>\n",
       "      <td>2019-05-21</td>\n",
       "      <td>0.38</td>\n",
       "      <td>2</td>\n",
       "      <td>355</td>\n",
       "    </tr>\n",
       "    <tr>\n",
       "      <th>2</th>\n",
       "      <td>3647</td>\n",
       "      <td>THE VILLAGE OF HARLEM....NEW YORK !</td>\n",
       "      <td>4632</td>\n",
       "      <td>Elisabeth</td>\n",
       "      <td>Manhattan</td>\n",
       "      <td>Harlem</td>\n",
       "      <td>40.80902</td>\n",
       "      <td>-73.94190</td>\n",
       "      <td>Private room</td>\n",
       "      <td>150</td>\n",
       "      <td>3</td>\n",
       "      <td>0</td>\n",
       "      <td>NaN</td>\n",
       "      <td>NaN</td>\n",
       "      <td>1</td>\n",
       "      <td>365</td>\n",
       "    </tr>\n",
       "    <tr>\n",
       "      <th>3</th>\n",
       "      <td>3831</td>\n",
       "      <td>Cozy Entire Floor of Brownstone</td>\n",
       "      <td>4869</td>\n",
       "      <td>LisaRoxanne</td>\n",
       "      <td>Brooklyn</td>\n",
       "      <td>Clinton Hill</td>\n",
       "      <td>40.68514</td>\n",
       "      <td>-73.95976</td>\n",
       "      <td>Entire home/apt</td>\n",
       "      <td>89</td>\n",
       "      <td>1</td>\n",
       "      <td>270</td>\n",
       "      <td>2019-07-05</td>\n",
       "      <td>4.64</td>\n",
       "      <td>1</td>\n",
       "      <td>194</td>\n",
       "    </tr>\n",
       "    <tr>\n",
       "      <th>4</th>\n",
       "      <td>5022</td>\n",
       "      <td>Entire Apt: Spacious Studio/Loft by central park</td>\n",
       "      <td>7192</td>\n",
       "      <td>Laura</td>\n",
       "      <td>Manhattan</td>\n",
       "      <td>East Harlem</td>\n",
       "      <td>40.79851</td>\n",
       "      <td>-73.94399</td>\n",
       "      <td>Entire home/apt</td>\n",
       "      <td>80</td>\n",
       "      <td>10</td>\n",
       "      <td>9</td>\n",
       "      <td>2018-11-19</td>\n",
       "      <td>0.10</td>\n",
       "      <td>1</td>\n",
       "      <td>0</td>\n",
       "    </tr>\n",
       "  </tbody>\n",
       "</table>\n",
       "</div>"
      ],
      "text/plain": [
       "     id                                              name  host_id  \\\n",
       "0  2539                Clean & quiet apt home by the park     2787   \n",
       "1  2595                             Skylit Midtown Castle     2845   \n",
       "2  3647               THE VILLAGE OF HARLEM....NEW YORK !     4632   \n",
       "3  3831                   Cozy Entire Floor of Brownstone     4869   \n",
       "4  5022  Entire Apt: Spacious Studio/Loft by central park     7192   \n",
       "\n",
       "     host_name neighbourhood_group neighbourhood  latitude  longitude  \\\n",
       "0         John            Brooklyn    Kensington  40.64749  -73.97237   \n",
       "1     Jennifer           Manhattan       Midtown  40.75362  -73.98377   \n",
       "2    Elisabeth           Manhattan        Harlem  40.80902  -73.94190   \n",
       "3  LisaRoxanne            Brooklyn  Clinton Hill  40.68514  -73.95976   \n",
       "4        Laura           Manhattan   East Harlem  40.79851  -73.94399   \n",
       "\n",
       "         room_type  price  minimum_nights  number_of_reviews last_review  \\\n",
       "0     Private room    149               1                  9  2018-10-19   \n",
       "1  Entire home/apt    225               1                 45  2019-05-21   \n",
       "2     Private room    150               3                  0         NaN   \n",
       "3  Entire home/apt     89               1                270  2019-07-05   \n",
       "4  Entire home/apt     80              10                  9  2018-11-19   \n",
       "\n",
       "   reviews_per_month  calculated_host_listings_count  availability_365  \n",
       "0               0.21                               6               365  \n",
       "1               0.38                               2               355  \n",
       "2                NaN                               1               365  \n",
       "3               4.64                               1               194  \n",
       "4               0.10                               1                 0  "
      ]
     },
     "execution_count": 185,
     "metadata": {},
     "output_type": "execute_result"
    }
   ],
   "source": [
    "#using head to get a brief snapshot of the data:\n",
    "df.head(5)\n"
   ]
  },
  {
   "cell_type": "code",
   "execution_count": 183,
   "id": "5db75e86",
   "metadata": {},
   "outputs": [
    {
     "data": {
      "text/plain": [
       "(48895, 16)"
      ]
     },
     "execution_count": 183,
     "metadata": {},
     "output_type": "execute_result"
    }
   ],
   "source": [
    "#using shape to get a sense of how many columns and rows this dataset contains\n",
    "df.shape"
   ]
  },
  {
   "cell_type": "code",
   "execution_count": 197,
   "id": "17652f72",
   "metadata": {},
   "outputs": [
    {
     "data": {
      "text/html": [
       "<div>\n",
       "<style scoped>\n",
       "    .dataframe tbody tr th:only-of-type {\n",
       "        vertical-align: middle;\n",
       "    }\n",
       "\n",
       "    .dataframe tbody tr th {\n",
       "        vertical-align: top;\n",
       "    }\n",
       "\n",
       "    .dataframe thead th {\n",
       "        text-align: right;\n",
       "    }\n",
       "</style>\n",
       "<table border=\"1\" class=\"dataframe\">\n",
       "  <thead>\n",
       "    <tr style=\"text-align: right;\">\n",
       "      <th></th>\n",
       "      <th>price</th>\n",
       "      <th>minimum_nights</th>\n",
       "      <th>number_of_reviews</th>\n",
       "      <th>reviews_per_month</th>\n",
       "      <th>calculated_host_listings_count</th>\n",
       "      <th>availability_365</th>\n",
       "    </tr>\n",
       "  </thead>\n",
       "  <tbody>\n",
       "    <tr>\n",
       "      <th>count</th>\n",
       "      <td>48895.000000</td>\n",
       "      <td>48895.000000</td>\n",
       "      <td>48895.000000</td>\n",
       "      <td>38843.000000</td>\n",
       "      <td>48895.000000</td>\n",
       "      <td>48895.000000</td>\n",
       "    </tr>\n",
       "    <tr>\n",
       "      <th>mean</th>\n",
       "      <td>152.720687</td>\n",
       "      <td>7.029962</td>\n",
       "      <td>23.274466</td>\n",
       "      <td>1.373221</td>\n",
       "      <td>7.143982</td>\n",
       "      <td>112.781327</td>\n",
       "    </tr>\n",
       "    <tr>\n",
       "      <th>std</th>\n",
       "      <td>240.154170</td>\n",
       "      <td>20.510550</td>\n",
       "      <td>44.550582</td>\n",
       "      <td>1.680442</td>\n",
       "      <td>32.952519</td>\n",
       "      <td>131.622289</td>\n",
       "    </tr>\n",
       "    <tr>\n",
       "      <th>min</th>\n",
       "      <td>0.000000</td>\n",
       "      <td>1.000000</td>\n",
       "      <td>0.000000</td>\n",
       "      <td>0.010000</td>\n",
       "      <td>1.000000</td>\n",
       "      <td>0.000000</td>\n",
       "    </tr>\n",
       "    <tr>\n",
       "      <th>25%</th>\n",
       "      <td>69.000000</td>\n",
       "      <td>1.000000</td>\n",
       "      <td>1.000000</td>\n",
       "      <td>0.190000</td>\n",
       "      <td>1.000000</td>\n",
       "      <td>0.000000</td>\n",
       "    </tr>\n",
       "    <tr>\n",
       "      <th>50%</th>\n",
       "      <td>106.000000</td>\n",
       "      <td>3.000000</td>\n",
       "      <td>5.000000</td>\n",
       "      <td>0.720000</td>\n",
       "      <td>1.000000</td>\n",
       "      <td>45.000000</td>\n",
       "    </tr>\n",
       "    <tr>\n",
       "      <th>75%</th>\n",
       "      <td>175.000000</td>\n",
       "      <td>5.000000</td>\n",
       "      <td>24.000000</td>\n",
       "      <td>2.020000</td>\n",
       "      <td>2.000000</td>\n",
       "      <td>227.000000</td>\n",
       "    </tr>\n",
       "    <tr>\n",
       "      <th>max</th>\n",
       "      <td>10000.000000</td>\n",
       "      <td>1250.000000</td>\n",
       "      <td>629.000000</td>\n",
       "      <td>58.500000</td>\n",
       "      <td>327.000000</td>\n",
       "      <td>365.000000</td>\n",
       "    </tr>\n",
       "  </tbody>\n",
       "</table>\n",
       "</div>"
      ],
      "text/plain": [
       "              price  minimum_nights  number_of_reviews  reviews_per_month  \\\n",
       "count  48895.000000    48895.000000       48895.000000       38843.000000   \n",
       "mean     152.720687        7.029962          23.274466           1.373221   \n",
       "std      240.154170       20.510550          44.550582           1.680442   \n",
       "min        0.000000        1.000000           0.000000           0.010000   \n",
       "25%       69.000000        1.000000           1.000000           0.190000   \n",
       "50%      106.000000        3.000000           5.000000           0.720000   \n",
       "75%      175.000000        5.000000          24.000000           2.020000   \n",
       "max    10000.000000     1250.000000         629.000000          58.500000   \n",
       "\n",
       "       calculated_host_listings_count  availability_365  \n",
       "count                    48895.000000      48895.000000  \n",
       "mean                         7.143982        112.781327  \n",
       "std                         32.952519        131.622289  \n",
       "min                          1.000000          0.000000  \n",
       "25%                          1.000000          0.000000  \n",
       "50%                          1.000000         45.000000  \n",
       "75%                          2.000000        227.000000  \n",
       "max                        327.000000        365.000000  "
      ]
     },
     "execution_count": 197,
     "metadata": {},
     "output_type": "execute_result"
    }
   ],
   "source": [
    "#using describe to get a brief summary of the columns in the dataset. \n",
    "#Most columns are helpful, with the exception of id and host_id, latitude, & longitude.\n",
    "df.drop([\"id\",\"host_id\",\"latitude\",\"longitude\"],axis=1).describe()"
   ]
  },
  {
   "cell_type": "code",
   "execution_count": 199,
   "id": "e97b21d3",
   "metadata": {},
   "outputs": [
    {
     "name": "stdout",
     "output_type": "stream",
     "text": [
      "Number of duplicated rows:  (0, 16)\n"
     ]
    }
   ],
   "source": [
    "#Checking for duplicates. Here we see that there are no duplicate rows.\n",
    "\n",
    "duplicate_rows_df = df[df.duplicated()]\n",
    "print(\"Number of duplicated rows: \", duplicate_rows_df.shape)"
   ]
  },
  {
   "cell_type": "markdown",
   "id": "cecab51b",
   "metadata": {},
   "source": [
    "Using info to check where there are missing values. We see missing values in name, host_name, last_review, & reviews_per_month. It's possible that a listing name and host name are not required by AirBnB although it does seem surprising. These fields are not important for our purposes, so it's not concerning. Last_review and reviews_per_month show the same number of non-null values. This is likely because these listings have not received any reviews."
   ]
  },
  {
   "cell_type": "code",
   "execution_count": 200,
   "id": "55217c77",
   "metadata": {},
   "outputs": [
    {
     "name": "stdout",
     "output_type": "stream",
     "text": [
      "<class 'pandas.core.frame.DataFrame'>\n",
      "RangeIndex: 48895 entries, 0 to 48894\n",
      "Data columns (total 16 columns):\n",
      " #   Column                          Non-Null Count  Dtype  \n",
      "---  ------                          --------------  -----  \n",
      " 0   id                              48895 non-null  int64  \n",
      " 1   name                            48879 non-null  object \n",
      " 2   host_id                         48895 non-null  int64  \n",
      " 3   host_name                       48874 non-null  object \n",
      " 4   neighbourhood_group             48895 non-null  object \n",
      " 5   neighbourhood                   48895 non-null  object \n",
      " 6   latitude                        48895 non-null  float64\n",
      " 7   longitude                       48895 non-null  float64\n",
      " 8   room_type                       48895 non-null  object \n",
      " 9   price                           48895 non-null  int64  \n",
      " 10  minimum_nights                  48895 non-null  int64  \n",
      " 11  number_of_reviews               48895 non-null  int64  \n",
      " 12  last_review                     38843 non-null  object \n",
      " 13  reviews_per_month               38843 non-null  float64\n",
      " 14  calculated_host_listings_count  48895 non-null  int64  \n",
      " 15  availability_365                48895 non-null  int64  \n",
      "dtypes: float64(3), int64(7), object(6)\n",
      "memory usage: 6.0+ MB\n"
     ]
    }
   ],
   "source": [
    "df.info()"
   ]
  },
  {
   "cell_type": "code",
   "execution_count": 201,
   "id": "cb75f9f2",
   "metadata": {},
   "outputs": [
    {
     "name": "stdout",
     "output_type": "stream",
     "text": [
      "Replacing the reviews_per_month that are null with zeros and calculating the overall average produces an average of 1.09 compared to the average with null values of 1.37.\n",
      "\n",
      "The decision to fill or not fill the null values with zero skews the average. It essentially depends on the analysis being done. Here I've decided to include the nulls (replaced by zeros) as it is reflective of all listings and their reviews or lack thereof.\n"
     ]
    }
   ],
   "source": [
    "#this should be deleted because it doesn't make sense and is completely irrelevant\n",
    "\n",
    "df_filled=df.fillna(0)\n",
    "mean_filled = df_filled.reviews_per_month.mean()\n",
    "non_filled=df.reviews_per_month.mean()\n",
    "\n",
    "print (f\"Replacing the reviews_per_month that are null with zeros and calculating the overall average produces an average of {mean_filled:.2f} compared to the average with null values of {non_filled:.2f}.\")\n",
    "print(\n",
    ")\n",
    "print(f\"The decision to fill or not fill the null values with zero skews the average. It essentially depends on the analysis being done. Here I've decided to include the nulls (replaced by zeros) as it is reflective of all listings and their reviews or lack thereof.\")"
   ]
  },
  {
   "cell_type": "markdown",
   "id": "bcd8c309",
   "metadata": {},
   "source": [
    "Beginning to explore the business question(s). Here we first break down the number of listings by room_type to get a sense of what types of listings are more common. We see below that Entire/home apts and private rooms make up roughly 98% of the listings with a near even split between the two (entire home/apt at 52% and private room at 46%), while shared room in contrast accounts for a the remaining 2%."
   ]
  },
  {
   "cell_type": "code",
   "execution_count": 203,
   "id": "e8fa6951",
   "metadata": {},
   "outputs": [
    {
     "name": "stdout",
     "output_type": "stream",
     "text": [
      "% of listings by room_type:\n"
     ]
    },
    {
     "data": {
      "text/plain": [
       "Entire home/apt    51.966459\n",
       "Private room       45.661111\n",
       "Shared room         2.372431\n",
       "Name: room_type, dtype: float64"
      ]
     },
     "execution_count": 203,
     "metadata": {},
     "output_type": "execute_result"
    }
   ],
   "source": [
    "x = df.room_type.value_counts()\n",
    "print(\"% of listings in room_type:\")\n",
    "x/x.sum()*100"
   ]
  },
  {
   "cell_type": "code",
   "execution_count": 168,
   "id": "0952fe7b",
   "metadata": {},
   "outputs": [
    {
     "name": "stdout",
     "output_type": "stream",
     "text": [
      "Using a barchart here as it is a direct comparison of numbers\n"
     ]
    },
    {
     "data": {
      "text/plain": [
       "Text(0.5, 1.0, 'Number Listings per Room Type')"
      ]
     },
     "execution_count": 168,
     "metadata": {},
     "output_type": "execute_result"
    },
    {
     "data": {
      "text/plain": [
       "<Figure size 100x200 with 0 Axes>"
      ]
     },
     "metadata": {},
     "output_type": "display_data"
    },
    {
     "data": {
      "image/png": "[encoded data removed]",
      "text/plain": [
       "<Figure size 500x500 with 1 Axes>"
      ]
     },
     "metadata": {},
     "output_type": "display_data"
    }
   ],
   "source": [
    "print(f\"Using a barchart here as it is a direct comparison of numbers\")\n",
    "plt.figure(figsize=(1,2))\n",
    "sns.displot(df.room_type)\n",
    "plt.title(\"Number Listings per Room Type\")\n"
   ]
  },
  {
   "cell_type": "code",
   "execution_count": 169,
   "id": "91a53a12",
   "metadata": {},
   "outputs": [
    {
     "name": "stdout",
     "output_type": "stream",
     "text": [
      "Using a pie chart here as we are showing how much of the total percentage each room type makes up\n"
     ]
    },
    {
     "data": {
      "image/png": "[encoded data removed]",
      "text/plain": [
       "<Figure size 300x300 with 1 Axes>"
      ]
     },
     "metadata": {},
     "output_type": "display_data"
    }
   ],
   "source": [
    "print(f\"Using a pie chart here as we are showing how much of the total percentage each room type makes up\")\n",
    "plt.figure(figsize=(3, 3))\n",
    "room_type_counts=df.room_type.value_counts()\n",
    "plt.pie(room_type_counts, labels=room_type_counts.index, autopct='%1.1f%%', startangle=140)\n",
    "plt.title(\"Distribution of Room Types\")\n",
    "plt.axis('equal') \n",
    "plt.show()"
   ]
  },
  {
   "cell_type": "markdown",
   "id": "a543367c",
   "metadata": {},
   "source": [
    "Taking this a step further, we see what price differences there are between room types overall across NYC. Not suprisingly, we see that average prices are highest for renting an entire home/apt, followed by private rooms and shared rooms."
   ]
  },
  {
   "cell_type": "code",
   "execution_count": 204,
   "id": "c34b6a5b",
   "metadata": {},
   "outputs": [
    {
     "data": {
      "text/plain": [
       "room_type\n",
       "Entire home/apt    211.794246\n",
       "Private room        89.780973\n",
       "Shared room         70.127586\n",
       "Name: price, dtype: float64"
      ]
     },
     "execution_count": 204,
     "metadata": {},
     "output_type": "execute_result"
    }
   ],
   "source": [
    "avg_prices = df.groupby(\"room_type\")[\"price\"].mean()\n",
    "avg_prices\n"
   ]
  },
  {
   "cell_type": "code",
   "execution_count": 205,
   "id": "037f53c5",
   "metadata": {},
   "outputs": [
    {
     "data": {
      "text/plain": [
       "<Axes: title={'center': 'Average Price per Room Type'}, xlabel='Room Type', ylabel='Price'>"
      ]
     },
     "execution_count": 205,
     "metadata": {},
     "output_type": "execute_result"
    },
    {
     "data": {
      "image/png": "[encoded data removed]",
      "text/plain": [
       "<Figure size 640x480 with 1 Axes>"
      ]
     },
     "metadata": {},
     "output_type": "display_data"
    }
   ],
   "source": [
    "overall_price_plt = df.groupby(\"room_type\")[\"price\"].mean().to_frame().reset_index()\n",
    "overall_price_plt.plot(kind='bar', title=\"Average Price per Room Type\",legend=False, xlabel=\"Room Type\",ylabel=\"Price\",x=\"room_type\")\n"
   ]
  },
  {
   "cell_type": "markdown",
   "id": "0b33056d",
   "metadata": {},
   "source": [
    "While the pricing averages show what we would expect at a high level, the % increase in pricing adds more detail to the analysis. As seen below, pricing for an entire apartment or home is on average, roughly 136% higher than a private room. We don't see the same price hike when looking at a private room vs shared room which is showing a 28% increase in price."
   ]
  },
  {
   "cell_type": "code",
   "execution_count": 206,
   "id": "84ea7bc7",
   "metadata": {},
   "outputs": [
    {
     "name": "stdout",
     "output_type": "stream",
     "text": [
      "\n",
      "The percentage higher of Entire home/apt compared to Private room is 135.90%\n",
      "The percentage higher of Private room compared to Shared room is 28.03%\n"
     ]
    }
   ],
   "source": [
    "private_room_percentage_difference = ((avg_prices[\"Entire home/apt\"] - avg_prices[\"Private room\"]) / avg_prices[\"Private room\"]) * 100\n",
    "shared_room_percentage_difference = ((avg_prices[\"Private room\"] - avg_prices[\"Shared room\"]) / avg_prices[\"Shared room\"]) * 100\n",
    "print(\n",
    ")\n",
    "print(f\"The percentage higher of Entire home/apt compared to Private room is {private_room_percentage_difference:.2f}%\")\n",
    "print(f\"The percentage higher of Private room compared to Shared room is {shared_room_percentage_difference:.2f}%\")"
   ]
  },
  {
   "cell_type": "markdown",
   "id": "3b3e2e65",
   "metadata": {},
   "source": [
    "While interesting and informative to see differences in pricing per room type, layering in neighbourhood group is an important piece of this analsyis. To begin, we look at the distribution of listings across the neighborhood groups and we see that Manhattan and brooklyn together comprise roughly 85% of all listings. Queens makes up the next largest percent with roughly 11.5% of listings. Staten Island and the Bronx bring up the end with roughly 3% combined."
   ]
  },
  {
   "cell_type": "code",
   "execution_count": 207,
   "id": "de2e7872",
   "metadata": {},
   "outputs": [
    {
     "name": "stdout",
     "output_type": "stream",
     "text": [
      "% of listings in neighborhood group:\n"
     ]
    },
    {
     "data": {
      "text/plain": [
       "Manhattan        44.301053\n",
       "Brooklyn         41.116679\n",
       "Queens           11.588097\n",
       "Bronx             2.231312\n",
       "Staten Island     0.762859\n",
       "Name: neighbourhood_group, dtype: float64"
      ]
     },
     "execution_count": 207,
     "metadata": {},
     "output_type": "execute_result"
    }
   ],
   "source": [
    "x = df.neighbourhood_group.value_counts()\n",
    "print(\"% of listings in neighborhood group:\")\n",
    "x/x.sum()*100"
   ]
  },
  {
   "cell_type": "code",
   "execution_count": 208,
   "id": "528bdc8b",
   "metadata": {},
   "outputs": [
    {
     "data": {
      "text/plain": [
       "Text(0.5, 1.0, 'Number Listings per Neighborhood_group')"
      ]
     },
     "execution_count": 208,
     "metadata": {},
     "output_type": "execute_result"
    },
    {
     "data": {
      "text/plain": [
       "<Figure size 100x200 with 0 Axes>"
      ]
     },
     "metadata": {},
     "output_type": "display_data"
    },
    {
     "data": {
      "image/png": "[encoded data removed]",
      "text/plain": [
       "<Figure size 500x500 with 1 Axes>"
      ]
     },
     "metadata": {},
     "output_type": "display_data"
    }
   ],
   "source": [
    "#Using a barchart here as it is a direct comparison of numbers\n",
    "plt.figure(figsize=(1,2))\n",
    "sns.displot(df.neighbourhood_group)\n",
    "plt.title(\"Number Listings per Neighborhood_group\")\n"
   ]
  },
  {
   "cell_type": "code",
   "execution_count": 209,
   "id": "0b7bbef7",
   "metadata": {},
   "outputs": [
    {
     "data": {
      "image/png": "[encoded data removed]",
      "text/plain": [
       "<Figure size 300x300 with 1 Axes>"
      ]
     },
     "metadata": {},
     "output_type": "display_data"
    }
   ],
   "source": [
    "#Using a pie chart to show the % of listings that each neighborhood_group makes up\n",
    "plt.figure(figsize=(3, 3))\n",
    "neighbourhood_groups_counts=df.neighbourhood_group.value_counts()\n",
    "plt.pie(neighbourhood_groups_counts, labels=neighbourhood_groups_counts.index, autopct='%1.1f%%', startangle=140)\n",
    "plt.title(\"Distribution of Neighborhoods\")\n",
    "plt.axis('equal')  # Equal aspect ratio ensures that pie is drawn as a circle.\n",
    "plt.show()"
   ]
  },
  {
   "cell_type": "markdown",
   "id": "a56e9c55",
   "metadata": {},
   "source": [
    "Taking the analysis one step further, we look at the impact that neighborhood group has on pricing. At a high level we see that Manhattan is the most expensive neighborhood to stay in across all room types.\n",
    "\n",
    "After Manhattan, it makes the most sense to analyze by room type as there isn't a clear second across the board. For entire home/apt Brooklyn is the next most expensive neighborhood to stay in, followed by Staten Island, Queens, and finishing with the Bronx.\n",
    "\n",
    "For a private room, the pattern is slightly different where Manhattan is followed by Brooklyn, Queens, the Bronx, and lastly Staten Island.\n",
    "\n",
    "Finally, for a shared room, after Manhattan we see Queens disrupting previous patterns with the second highest average price, followed by the Bronx, Staten Island, and finishing with Brooklyn as the cheapest -- again bucking the trends we saw with the other room types.\n",
    "\n",
    "Interestingly, there are some options like a shared room in Manhattan that is more expensive than a private room in all the other neighborhood groups, while an entire home/apt, even the cheapest option, is still more expensive than any of the private room options."
   ]
  },
  {
   "cell_type": "code",
   "execution_count": 210,
   "id": "176d2295",
   "metadata": {},
   "outputs": [
    {
     "name": "stdout",
     "output_type": "stream",
     "text": [
      "Average prices per neighborhood group per room type:\n"
     ]
    },
    {
     "data": {
      "text/html": [
       "<div>\n",
       "<style scoped>\n",
       "    .dataframe tbody tr th:only-of-type {\n",
       "        vertical-align: middle;\n",
       "    }\n",
       "\n",
       "    .dataframe tbody tr th {\n",
       "        vertical-align: top;\n",
       "    }\n",
       "\n",
       "    .dataframe thead th {\n",
       "        text-align: right;\n",
       "    }\n",
       "</style>\n",
       "<table border=\"1\" class=\"dataframe\">\n",
       "  <thead>\n",
       "    <tr style=\"text-align: right;\">\n",
       "      <th>room_type</th>\n",
       "      <th>Entire home/apt</th>\n",
       "      <th>Private room</th>\n",
       "      <th>Shared room</th>\n",
       "    </tr>\n",
       "    <tr>\n",
       "      <th>neighbourhood_group</th>\n",
       "      <th></th>\n",
       "      <th></th>\n",
       "      <th></th>\n",
       "    </tr>\n",
       "  </thead>\n",
       "  <tbody>\n",
       "    <tr>\n",
       "      <th>Bronx</th>\n",
       "      <td>127.506596</td>\n",
       "      <td>66.788344</td>\n",
       "      <td>59.800000</td>\n",
       "    </tr>\n",
       "    <tr>\n",
       "      <th>Brooklyn</th>\n",
       "      <td>178.327545</td>\n",
       "      <td>76.500099</td>\n",
       "      <td>50.527845</td>\n",
       "    </tr>\n",
       "    <tr>\n",
       "      <th>Manhattan</th>\n",
       "      <td>249.239109</td>\n",
       "      <td>116.776622</td>\n",
       "      <td>88.977083</td>\n",
       "    </tr>\n",
       "    <tr>\n",
       "      <th>Queens</th>\n",
       "      <td>147.050573</td>\n",
       "      <td>71.762456</td>\n",
       "      <td>69.020202</td>\n",
       "    </tr>\n",
       "    <tr>\n",
       "      <th>Staten Island</th>\n",
       "      <td>173.846591</td>\n",
       "      <td>62.292553</td>\n",
       "      <td>57.444444</td>\n",
       "    </tr>\n",
       "  </tbody>\n",
       "</table>\n",
       "</div>"
      ],
      "text/plain": [
       "room_type            Entire home/apt  Private room  Shared room\n",
       "neighbourhood_group                                            \n",
       "Bronx                     127.506596     66.788344    59.800000\n",
       "Brooklyn                  178.327545     76.500099    50.527845\n",
       "Manhattan                 249.239109    116.776622    88.977083\n",
       "Queens                    147.050573     71.762456    69.020202\n",
       "Staten Island             173.846591     62.292553    57.444444"
      ]
     },
     "execution_count": 210,
     "metadata": {},
     "output_type": "execute_result"
    }
   ],
   "source": [
    "print(\"Average prices per neighborhood group per room type:\")\n",
    "df.groupby([\"neighbourhood_group\", \"room_type\"])[\"price\"].mean().unstack()"
   ]
  },
  {
   "cell_type": "code",
   "execution_count": 223,
   "id": "ba091246",
   "metadata": {},
   "outputs": [
    {
     "data": {
      "text/plain": [
       "<Axes: title={'center': 'Average Price per Room Type per Neighborhood'}, xlabel='Room Type', ylabel='Price'>"
      ]
     },
     "execution_count": 223,
     "metadata": {},
     "output_type": "execute_result"
    },
    {
     "data": {
      "image/png": "[encoded data removed]",
      "text/plain": [
       "<Figure size 640x480 with 1 Axes>"
      ]
     },
     "metadata": {},
     "output_type": "display_data"
    }
   ],
   "source": [
    "#not finished, want to do a grouped bar chart\n",
    "neighborhood_price_plt =df.groupby([\"neighbourhood_group\", \"room_type\"])[\"price\"].mean().to_frame().reset_index()\n",
    "neighborhood_price_plt.plot(kind='bar', title=\"Average Price per Room Type per Neighborhood\",legend=False, xlabel=\"Room Type\",ylabel=\"Price\",x=\"room_type\")"
   ]
  },
  {
   "cell_type": "markdown",
   "id": "8e5af829",
   "metadata": {},
   "source": [
    "Previously we saw unsurprisingly that an entire room/apt was the most expensive option, followed by private room, and shared room. Going a bit deeper, we can calculate the % jump in pricing between different room types in each neighborhood group. Here we see that Staten Island sees the sharpest increase in pricing between a private room and entire home/apt. Brooklyn follows with the second highest price increase. Manhattan, which has the highest prices overall, interestingly has the only the third highest price difference, followed closely by Queens and the Bronx."
   ]
  },
  {
   "cell_type": "code",
   "execution_count": 212,
   "id": "7f024e63",
   "metadata": {},
   "outputs": [
    {
     "name": "stdout",
     "output_type": "stream",
     "text": [
      "Percentage price difference of Entire home/apt to Private room per neighbourhood_group:\n",
      "neighbourhood_group\n",
      "Bronx             90.911452\n",
      "Brooklyn         133.107601\n",
      "Manhattan        113.432367\n",
      "Queens           104.912961\n",
      "Staten Island    179.080856\n",
      "dtype: float64\n"
     ]
    }
   ],
   "source": [
    "avg_prices = df.groupby([\"neighbourhood_group\", \"room_type\"])[\"price\"].mean().unstack()\n",
    "\n",
    "percentage_differences = (\n",
    "    ((avg_prices[\"Entire home/apt\"] - avg_prices[\"Private room\"]) / avg_prices[\"Private room\"]) * 100\n",
    ")\n",
    "\n",
    "print(\"Percentage price difference of Entire home/apt to Private room per neighbourhood_group:\")\n",
    "print(percentage_differences)"
   ]
  },
  {
   "cell_type": "markdown",
   "id": "3c058d9d",
   "metadata": {},
   "source": [
    "The jump in prices decreases dramatically when looking at a private room vs a shared room. The highest difference here is in Brooklyn, followed by Manhattan. Bronx, Staten Island, and Queens, respectively in that order, mark much lower price increases from shared room to private room, with Queens bringing up the low end with only 4% average increase."
   ]
  },
  {
   "cell_type": "code",
   "execution_count": 213,
   "id": "f8642312",
   "metadata": {},
   "outputs": [
    {
     "name": "stdout",
     "output_type": "stream",
     "text": [
      "\n",
      "Percentage price difference of Private room to shared room per neighbourhood_group:\n",
      "neighbourhood_group\n",
      "Bronx            11.686193\n",
      "Brooklyn         51.401863\n",
      "Manhattan        31.243482\n",
      "Queens            3.973117\n",
      "Staten Island     8.439648\n",
      "dtype: float64\n"
     ]
    }
   ],
   "source": [
    "avg_prices = df.groupby([\"neighbourhood_group\", \"room_type\"])[\"price\"].mean().unstack()\n",
    "\n",
    "percentage_differences = (\n",
    "    ((avg_prices[\"Private room\"] - avg_prices[\"Shared room\"]) / avg_prices[\"Shared room\"]) * 100)\n",
    "\n",
    "print(\"Percentage price difference of Private room to shared room per neighbourhood_group:\")\n",
    "print(percentage_differences)\n"
   ]
  },
  {
   "cell_type": "code",
   "execution_count": null,
   "id": "e1a25463",
   "metadata": {},
   "outputs": [],
   "source": [
    "print(f\"Shifting gears away from neighborhood group, \")\n"
   ]
  },
  {
   "cell_type": "markdown",
   "id": "e2fd7ecb",
   "metadata": {},
   "source": [
    "### Summarize Your Results\n",
    "#### With your EDA complete, answer the following questions.\n",
    "\n",
    "#### Was there anything surprising about your dataset?\n",
    "For the most part it displayed what I expected it to display.\n",
    "\n",
    "#### Do you have any concerns about your dataset?\n",
    "I don't, although I do realize that there are lots of other factors that play into pricing that are not present here (ex. amenities)\n",
    "\n",
    "#### Is there anything you want to make note of for the next phase of your analysis, which is cleaning data?\n",
    "I'd like to examine duplicates and null values and determine how to best address them."
   ]
  },
  {
   "cell_type": "code",
   "execution_count": 222,
   "id": "e07298f3",
   "metadata": {},
   "outputs": [
    {
     "data": {
      "text/html": [
       "<div>\n",
       "<style scoped>\n",
       "    .dataframe tbody tr th:only-of-type {\n",
       "        vertical-align: middle;\n",
       "    }\n",
       "\n",
       "    .dataframe tbody tr th {\n",
       "        vertical-align: top;\n",
       "    }\n",
       "\n",
       "    .dataframe thead th {\n",
       "        text-align: right;\n",
       "    }\n",
       "</style>\n",
       "<table border=\"1\" class=\"dataframe\">\n",
       "  <thead>\n",
       "    <tr style=\"text-align: right;\">\n",
       "      <th></th>\n",
       "      <th>price</th>\n",
       "      <th>number_of_reviews</th>\n",
       "      <th>reviews_per_month</th>\n",
       "      <th>minimum_nights</th>\n",
       "    </tr>\n",
       "  </thead>\n",
       "  <tbody>\n",
       "    <tr>\n",
       "      <th>price</th>\n",
       "      <td>1.000000</td>\n",
       "      <td>-0.047954</td>\n",
       "      <td>-0.030608</td>\n",
       "      <td>0.042799</td>\n",
       "    </tr>\n",
       "    <tr>\n",
       "      <th>number_of_reviews</th>\n",
       "      <td>-0.047954</td>\n",
       "      <td>1.000000</td>\n",
       "      <td>0.549868</td>\n",
       "      <td>-0.080116</td>\n",
       "    </tr>\n",
       "    <tr>\n",
       "      <th>reviews_per_month</th>\n",
       "      <td>-0.030608</td>\n",
       "      <td>0.549868</td>\n",
       "      <td>1.000000</td>\n",
       "      <td>-0.121702</td>\n",
       "    </tr>\n",
       "    <tr>\n",
       "      <th>minimum_nights</th>\n",
       "      <td>0.042799</td>\n",
       "      <td>-0.080116</td>\n",
       "      <td>-0.121702</td>\n",
       "      <td>1.000000</td>\n",
       "    </tr>\n",
       "  </tbody>\n",
       "</table>\n",
       "</div>"
      ],
      "text/plain": [
       "                      price  number_of_reviews  reviews_per_month  \\\n",
       "price              1.000000          -0.047954          -0.030608   \n",
       "number_of_reviews -0.047954           1.000000           0.549868   \n",
       "reviews_per_month -0.030608           0.549868           1.000000   \n",
       "minimum_nights     0.042799          -0.080116          -0.121702   \n",
       "\n",
       "                   minimum_nights  \n",
       "price                    0.042799  \n",
       "number_of_reviews       -0.080116  \n",
       "reviews_per_month       -0.121702  \n",
       "minimum_nights           1.000000  "
      ]
     },
     "execution_count": 222,
     "metadata": {},
     "output_type": "execute_result"
    }
   ],
   "source": [
    "correlation_matrix = df[[\"price\",\"number_of_reviews\",\"reviews_per_month\",\"minimum_nights\"]].corr()\n",
    "correlation_matrix"
   ]
  },
  {
   "cell_type": "code",
   "execution_count": 62,
   "id": "5046a4d0",
   "metadata": {},
   "outputs": [],
   "source": [
    "#ideas for additional analysis:\n",
    "#number of reviews, prices per room type and area, number of listings and number of bookings per property; minimum nights on booking, availability on booking\n",
    "#putting coordinates in a map (is there a library that does this)--ask chat gpt if pandas does it or maybe matplotlib (geopanda?)\n",
    "#graphs (pie chart, line chart, bar chart, cluster with pricing/location, box plot (min, max, avg)\n",
    "#correlation\n",
    "#look at outliers, boxplot\n"
   ]
  },
  {
   "cell_type": "code",
   "execution_count": null,
   "id": "293a3b92",
   "metadata": {},
   "outputs": [],
   "source": []
  }
 ],
 "metadata": {
  "kernelspec": {
   "display_name": "Python 3 (ipykernel)",
   "language": "python",
   "name": "python3"
  },
  "language_info": {
   "codemirror_mode": {
    "name": "ipython",
    "version": 3
   },
   "file_extension": ".py",
   "mimetype": "text/x-python",
   "name": "python",
   "nbconvert_exporter": "python",
   "pygments_lexer": "ipython3",
   "version": "3.10.9"
  }
 },
 "nbformat": 4,
 "nbformat_minor": 5
}
